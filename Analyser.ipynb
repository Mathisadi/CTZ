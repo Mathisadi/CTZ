{
 "cells": [
  {
   "cell_type": "markdown",
   "metadata": {},
   "source": [
    "# ANALYSER"
   ]
  },
  {
   "cell_type": "code",
   "execution_count": 7,
   "metadata": {},
   "outputs": [],
   "source": [
    "import Modele\n",
    "from Variables import *\n",
    "import csv\n",
    "import matplotlib.pyplot as plt\n",
    "import numpy as np\n",
    "from tqdm import tqdm\n",
    "import time\n",
    "import statistics"
   ]
  },
  {
   "cell_type": "code",
   "execution_count": 11,
   "metadata": {},
   "outputs": [
    {
     "name": "stderr",
     "output_type": "stream",
     "text": [
      "  0%|          | 0/55 [00:00<?, ?it/s]"
     ]
    },
    {
     "name": "stderr",
     "output_type": "stream",
     "text": [
      "100%|██████████| 55/55 [00:41<00:00,  1.32it/s]"
     ]
    },
    {
     "name": "stdout",
     "output_type": "stream",
     "text": [
      "[7097, 7459, 6887, 6745, 7238, 6940, 8182, 7883, 6366, 6888, 7056, 7751, 7408, 8557, 6889, 8345, 8171, 8176, 8280, 8395, 8329, 9652, 8638, 9390, 8851, 8907, 8927, 9794, 8686, 8340, 8340, 9467, 9355, 9090, 9085, 9572, 9296, 9869, 9477, 10680, 9814, 10768, 8823, 10004, 10898, 9999, 9774, 9767, 10742, 10972, 11807, 10701, 11793, 12050, 11654]\n",
      "[13, 8, 7, 14, 19, 10, 15, 5, 9, 17, 6, 16, 12, 21, 22, 11, 23, 25, 34, 35, 20, 24, 18, 27, 33, 47, 29, 30, 31, 39, 38, 41, 37, 28, 36, 43, 40, 26, 52, 51, 32, 45, 42, 50, 48, 44, 56, 53, 46, 49, 54, 59, 57, 55, 58]\n"
     ]
    },
    {
     "name": "stderr",
     "output_type": "stream",
     "text": [
      "\n"
     ]
    }
   ],
   "source": [
    "# Idée de test 1 : nbr de voiture total sur la route hors fin\n",
    "\n",
    "\n",
    "def nbr_voiture(route, direction, traffic, duree_feu, duree_test):\n",
    "\n",
    "    for i in range(len(route)):\n",
    "        for j in range(len(route[i])):\n",
    "            if route[i][j] != 0 and route[i][j][0] == \"Feu\":\n",
    "                route[i][j][2] = duree_feu\n",
    "\n",
    "    res = []\n",
    "\n",
    "    for temps in range(duree_test):\n",
    "\n",
    "        route, direction, traffic = Modele.mouvement(route, direction, traffic, temps)\n",
    "\n",
    "        compt = 0\n",
    "\n",
    "        for i in range(len(traffic)):\n",
    "            for j in range(len(traffic[i])):\n",
    "                if isinstance(traffic[i][j], list):\n",
    "                    if route[i][j] != 0 and route[i][j][0] == \"Route\":\n",
    "                        compt += traffic[i][j].count(1)\n",
    "                    elif route[i][j] != 0 and route[i][j][0] != \"Fin\":\n",
    "                        compt += traffic[i][j][0]\n",
    "\n",
    "        res.append(compt)\n",
    "\n",
    "    return res\n",
    "\n",
    "\n",
    "def test_1(route, direction, traffic, duree_min, duree_max, nbr_test, nbr_ite):\n",
    "\n",
    "    res = []\n",
    "    \n",
    "    for duree in tqdm(range(duree_min, duree_max)):\n",
    "        for i in range(nbr_test):\n",
    "            compt = []\n",
    "            compt.append(sum(nbr_voiture(route, direction, traffic, duree, nbr_ite)))\n",
    "        res.append(statistics.mean(compt))\n",
    "        \n",
    "    return res\n",
    "\n",
    "\n",
    "r = test_1(route_etude, direction_etude, traffic_etude, 5, 60, 10, 1000)\n",
    "index = sorted(range(len(r)), key=lambda i: r[i])\n",
    "\n",
    "print(r)\n",
    "print([i + 5 for i in index])"
   ]
  },
  {
   "cell_type": "code",
   "execution_count": null,
   "metadata": {},
   "outputs": [],
   "source": []
  }
 ],
 "metadata": {
  "kernelspec": {
   "display_name": "venv",
   "language": "python",
   "name": "python3"
  },
  "language_info": {
   "codemirror_mode": {
    "name": "ipython",
    "version": 3
   },
   "file_extension": ".py",
   "mimetype": "text/x-python",
   "name": "python",
   "nbconvert_exporter": "python",
   "pygments_lexer": "ipython3",
   "version": "3.9.13"
  }
 },
 "nbformat": 4,
 "nbformat_minor": 2
}
