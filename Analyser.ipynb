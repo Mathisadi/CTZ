{
 "cells": [
  {
   "cell_type": "markdown",
   "metadata": {},
   "source": [
    "# ANALYSER"
   ]
  },
  {
   "cell_type": "code",
   "execution_count": 7,
   "metadata": {},
   "outputs": [],
   "source": [
    "import Modele\n",
    "from Variables import *\n",
    "import csv\n",
    "import matplotlib.pyplot as plt\n",
    "import numpy as np\n",
    "from tqdm import tqdm\n",
    "import time\n",
    "import statistics"
   ]
  },
  {
   "cell_type": "code",
   "execution_count": 8,
   "metadata": {},
   "outputs": [
    {
     "name": "stderr",
     "output_type": "stream",
     "text": [
      "100%|██████████| 30/30 [00:06<00:00,  4.85it/s]"
     ]
    },
    {
     "name": "stdout",
     "output_type": "stream",
     "text": [
      "[1474258, 1476362, 1468644, 1464551, 1442019, 1450296, 1453560, 1459681, 1462426, 1465756, 1473313, 1468478, 1484513, 1489224, 1485628, 1477476, 1459597, 1444202, 1448107, 1459273, 1464874, 1476385, 1473374, 1478535, 1490553, 1507941, 1528435, 1538740, 1545906, 1545637]\n",
      "[34, 47, 48, 35, 36, 49, 46, 37, 38, 33, 50, 39, 41, 32, 40, 52, 30, 31, 51, 45, 53, 42, 44, 43, 54, 55, 56, 57, 59, 58]\n"
     ]
    },
    {
     "name": "stderr",
     "output_type": "stream",
     "text": [
      "\n"
     ]
    }
   ],
   "source": [
    "# Idée de test 1 : nbr de voiture total sur la route hors fin\n",
    "\n",
    "\n",
    "def nbr_voiture(route, direction, traffic, duree_feu, duree_test):\n",
    "\n",
    "    for i in range(len(route)):\n",
    "        for j in range(len(route[i])):\n",
    "            if route[i][j] != 0 and route[i][j][0] == \"Feu\":\n",
    "                route[i][j][2] = duree_feu\n",
    "\n",
    "    res = []\n",
    "\n",
    "    for temps in range(duree_test):\n",
    "\n",
    "        route, direction, traffic = Modele.mouvement(route, direction, traffic, temps)\n",
    "\n",
    "        compt = 0\n",
    "\n",
    "        for i in range(len(traffic)):\n",
    "            for j in range(len(traffic[i])):\n",
    "                if isinstance(traffic[i][j], list):\n",
    "                    if route[i][j] != 0 and route[i][j][0] == \"Route\":\n",
    "                        compt += traffic[i][j].count(1)\n",
    "                    elif route[i][j] != 0 and route[i][j][0] != \"Fin\":\n",
    "                        compt += traffic[i][j][0]\n",
    "\n",
    "        res.append(compt)\n",
    "\n",
    "    return res\n",
    "\n",
    "\n",
    "def test_1(route, direction, traffic, duree_min, duree_max, nbr_test, nbr_ite):\n",
    "\n",
    "    res = []\n",
    "    \n",
    "    for duree in tqdm(range(duree_min, duree_max)):\n",
    "        for i in range(nbr_test):\n",
    "            compt = []\n",
    "            compt.append(sum(nbr_voiture(route, direction, traffic, duree, nbr_ite)))\n",
    "        res.append(statistics.mean(compt))\n",
    "        \n",
    "    return res\n",
    "\n",
    "\n",
    "r = test_1(route_etude, direction_etude, traffic_etude, 30, 60, 10, 240)\n",
    "index = sorted(range(len(r)), key=lambda i: r[i])\n",
    "\n",
    "print(r)\n",
    "print([i + 30 for i in index])"
   ]
  },
  {
   "cell_type": "markdown",
   "metadata": {},
   "source": [
    "Résultat : Test naif qui a pour objectif de vider au plus vite les routes sans vraiment vouloir minimiser les embouteillage. On obtient en général un temps optimal le plus faible étrange !"
   ]
  },
  {
   "cell_type": "code",
   "execution_count": 9,
   "metadata": {},
   "outputs": [
    {
     "name": "stderr",
     "output_type": "stream",
     "text": [
      "100%|██████████| 30/30 [00:06<00:00,  4.59it/s]"
     ]
    },
    {
     "name": "stdout",
     "output_type": "stream",
     "text": [
      "[1576196, 1587232, 1584632, 1568618, 1571185, 1572300, 1579165, 1600386, 1600421, 1616216, 1616155, 1620197, 1620262, 1619465, 1620309, 1605754, 1605604, 1599261, 1607902, 1603540, 1613739, 1628002, 1632751, 1634781, 1635724, 1655080, 1658365, 1667004, 1678564, 1688628]\n",
      "[33, 34, 35, 30, 36, 32, 31, 47, 37, 38, 49, 46, 45, 48, 50, 40, 39, 43, 41, 42, 44, 51, 52, 53, 54, 55, 56, 57, 58, 59]\n"
     ]
    },
    {
     "name": "stderr",
     "output_type": "stream",
     "text": [
      "\n"
     ]
    }
   ],
   "source": [
    "# Test 2 : Nombre de voiture sur les routes = embouteillage\n",
    "# On veut que le phenomène soit penalisé x2 si plus de la moitié de la route occupé par des voitures\n",
    "# Et x5 les voitures sur les cases départ avec plus de 1 voiture\n",
    "\n",
    "def nbr_voiture_coef(route, direction, traffic, duree_feu, duree_test):\n",
    "\n",
    "    for i in range(len(route)):\n",
    "        for j in range(len(route[i])):\n",
    "            if route[i][j] != 0 and route[i][j][0] == \"Feu\":\n",
    "                route[i][j][2] = duree_feu\n",
    "\n",
    "    res = []\n",
    "\n",
    "    for temps in range(duree_test):\n",
    "\n",
    "        route, direction, traffic = Modele.mouvement(route, direction, traffic, temps)\n",
    "\n",
    "        compt = 0\n",
    "\n",
    "        for i in range(len(traffic)):\n",
    "            for j in range(len(traffic[i])):\n",
    "                if isinstance(traffic[i][j], list):\n",
    "                    if route[i][j] != 0 and route[i][j][0] == \"Route\":\n",
    "                        if traffic[i][j].count(1) > len(route[i][j])/2:\n",
    "                            compt += 5*traffic[i][j].count(1)\n",
    "                        else:\n",
    "                            compt += traffic[i][j].count(1)\n",
    "                    elif route[i][j] != 0 and route[i][j][0] == \"Départ\":\n",
    "                        if traffic[i][j][0] > 1:\n",
    "                            compt += 10*traffic[i][j][0]\n",
    "                        else:\n",
    "                            compt += traffic[i][j][0]\n",
    "                    elif route[i][j] != 0 and route[i][j][0] != \"Fin\":\n",
    "                        compt += traffic[i][j][0]\n",
    "\n",
    "        res.append(compt)\n",
    "\n",
    "    return res\n",
    "\n",
    "def test_2(route, direction, traffic, duree_min, duree_max, nbr_test, nbr_ite):\n",
    "\n",
    "    res = []\n",
    "    \n",
    "    for duree in tqdm(range(duree_min, duree_max)):\n",
    "        for i in range(nbr_test):\n",
    "            compt = []\n",
    "            compt.append(sum(nbr_voiture_coef(route, direction, traffic, duree, nbr_ite)))\n",
    "        res.append(statistics.mean(compt))\n",
    "        \n",
    "    return res\n",
    "\n",
    "r = test_2(route_etude, direction_etude, traffic_etude, 30, 60, 10, 240)\n",
    "index = sorted(range(len(r)), key=lambda i: r[i])\n",
    "\n",
    "print(r)\n",
    "print([i + 30 for i in index])"
   ]
  },
  {
   "cell_type": "code",
   "execution_count": 1,
   "metadata": {},
   "outputs": [
    {
     "ename": "IndexError",
     "evalue": "list index out of range",
     "output_type": "error",
     "traceback": [
      "\u001b[1;31m---------------------------------------------------------------------------\u001b[0m",
      "\u001b[1;31mIndexError\u001b[0m                                Traceback (most recent call last)",
      "Cell \u001b[1;32mIn[1], line 5\u001b[0m\n\u001b[0;32m      1\u001b[0m r \u001b[38;5;241m=\u001b[39m [\u001b[38;5;241m0\u001b[39m,\u001b[38;5;241m3\u001b[39m,\u001b[38;5;241m3\u001b[39m]\n\u001b[0;32m      3\u001b[0m n \u001b[38;5;241m=\u001b[39m \u001b[38;5;28mlen\u001b[39m(r)\n\u001b[1;32m----> 5\u001b[0m \u001b[43mr\u001b[49m\u001b[43m[\u001b[49m\u001b[43mn\u001b[49m\u001b[43m]\u001b[49m\n",
      "\u001b[1;31mIndexError\u001b[0m: list index out of range"
     ]
    }
   ],
   "source": [
    "r = [0,3,3]\n",
    "\n",
    "n = len(r)\n",
    "\n",
    "r[n]"
   ]
  }
 ],
 "metadata": {
  "kernelspec": {
   "display_name": "Python 3",
   "language": "python",
   "name": "python3"
  },
  "language_info": {
   "codemirror_mode": {
    "name": "ipython",
    "version": 3
   },
   "file_extension": ".py",
   "mimetype": "text/x-python",
   "name": "python",
   "nbconvert_exporter": "python",
   "pygments_lexer": "ipython3",
   "version": "3.12.6"
  }
 },
 "nbformat": 4,
 "nbformat_minor": 2
}
