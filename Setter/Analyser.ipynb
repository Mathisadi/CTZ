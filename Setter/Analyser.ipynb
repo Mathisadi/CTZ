{
 "cells": [
  {
   "cell_type": "markdown",
   "metadata": {},
   "source": [
    "# ANALYSER"
   ]
  },
  {
   "cell_type": "code",
   "execution_count": 2,
   "metadata": {},
   "outputs": [],
   "source": [
    "import Modele\n",
    "from Var import *\n",
    "import csv\n",
    "import matplotlib.pyplot as plt\n",
    "import numpy as np\n",
    "from tqdm import tqdm\n",
    "import time\n",
    "import statistics"
   ]
  },
  {
   "cell_type": "code",
   "execution_count": 4,
   "metadata": {},
   "outputs": [
    {
     "name": "stderr",
     "output_type": "stream",
     "text": [
      " 69%|██████▉   | 68776/100000 [00:10<00:04, 6813.66it/s]\n"
     ]
    },
    {
     "ename": "KeyboardInterrupt",
     "evalue": "",
     "output_type": "error",
     "traceback": [
      "\u001b[1;31m---------------------------------------------------------------------------\u001b[0m",
      "\u001b[1;31mKeyboardInterrupt\u001b[0m                         Traceback (most recent call last)",
      "Cell \u001b[1;32mIn[4], line 9\u001b[0m\n\u001b[0;32m      5\u001b[0m         route, direction, traffic \u001b[38;5;241m=\u001b[39m Modele\u001b[38;5;241m.\u001b[39mmouvement(route, direction, traffic, temps)\n\u001b[0;32m      7\u001b[0m     \u001b[38;5;28;01mreturn\u001b[39;00m traffic\n\u001b[1;32m----> 9\u001b[0m \u001b[43mtemps_exe\u001b[49m\u001b[43m(\u001b[49m\u001b[38;5;241;43m100000\u001b[39;49m\u001b[43m)\u001b[49m\n",
      "Cell \u001b[1;32mIn[4], line 5\u001b[0m, in \u001b[0;36mtemps_exe\u001b[1;34m(duree, route, direction, traffic)\u001b[0m\n\u001b[0;32m      2\u001b[0m \u001b[38;5;28;01mdef\u001b[39;00m \u001b[38;5;21mtemps_exe\u001b[39m(duree,route\u001b[38;5;241m=\u001b[39mroute_etude,direction\u001b[38;5;241m=\u001b[39mdirection_etude,traffic\u001b[38;5;241m=\u001b[39mtrafic_etude):\n\u001b[0;32m      4\u001b[0m     \u001b[38;5;28;01mfor\u001b[39;00m temps \u001b[38;5;129;01min\u001b[39;00m tqdm(\u001b[38;5;28mrange\u001b[39m(duree)):\n\u001b[1;32m----> 5\u001b[0m         route, direction, traffic \u001b[38;5;241m=\u001b[39m \u001b[43mModele\u001b[49m\u001b[38;5;241;43m.\u001b[39;49m\u001b[43mmouvement\u001b[49m\u001b[43m(\u001b[49m\u001b[43mroute\u001b[49m\u001b[43m,\u001b[49m\u001b[43m \u001b[49m\u001b[43mdirection\u001b[49m\u001b[43m,\u001b[49m\u001b[43m \u001b[49m\u001b[43mtraffic\u001b[49m\u001b[43m,\u001b[49m\u001b[43m \u001b[49m\u001b[43mtemps\u001b[49m\u001b[43m)\u001b[49m\n\u001b[0;32m      7\u001b[0m     \u001b[38;5;28;01mreturn\u001b[39;00m traffic\n",
      "File \u001b[1;32md:\\GitHub\\CTZ\\Modele\\Mouvement.py:206\u001b[0m, in \u001b[0;36mmouvement\u001b[1;34m(route, direction, trafic, temps)\u001b[0m\n\u001b[0;32m    191\u001b[0m \u001b[38;5;250m\u001b[39m\u001b[38;5;124;03m\"\"\"\u001b[39;00m\n\u001b[0;32m    192\u001b[0m \u001b[38;5;124;03mMet à jour la route, les directions et le trafic en fonction des conditions actuelles des routes, des directions,\u001b[39;00m\n\u001b[0;32m    193\u001b[0m \u001b[38;5;124;03met du trafic pour un instant donné.\u001b[39;00m\n\u001b[1;32m   (...)\u001b[0m\n\u001b[0;32m    202\u001b[0m \u001b[38;5;124;03m    tuple: Retourne la route mise à jour, les directions mises à jour, et le trafic mis à jour après le traitement des piétons, des voitures, et des feux rouges.\u001b[39;00m\n\u001b[0;32m    203\u001b[0m \u001b[38;5;124;03m\"\"\"\u001b[39;00m\n\u001b[0;32m    205\u001b[0m \u001b[38;5;66;03m# Update des éléments\u001b[39;00m\n\u001b[1;32m--> 206\u001b[0m route, direction, trafic \u001b[38;5;241m=\u001b[39m \u001b[43mupdate_grille\u001b[49m\u001b[43m(\u001b[49m\u001b[43mroute\u001b[49m\u001b[43m,\u001b[49m\u001b[43m \u001b[49m\u001b[43mdirection\u001b[49m\u001b[43m,\u001b[49m\u001b[43m \u001b[49m\u001b[43mtrafic\u001b[49m\u001b[43m,\u001b[49m\u001b[43m \u001b[49m\u001b[43mtemps\u001b[49m\u001b[43m)\u001b[49m\n\u001b[0;32m    208\u001b[0m \u001b[38;5;66;03m# On garde en copie le trafic\u001b[39;00m\n\u001b[0;32m    209\u001b[0m ref_trafic \u001b[38;5;241m=\u001b[39m copy\u001b[38;5;241m.\u001b[39mdeepcopy(trafic)\n",
      "File \u001b[1;32md:\\GitHub\\CTZ\\Modele\\Update_route.py:173\u001b[0m, in \u001b[0;36mupdate_grille\u001b[1;34m(route, direction, trafic, temps)\u001b[0m\n\u001b[0;32m    170\u001b[0m \u001b[38;5;66;03m# On met à jour les éléments dans l'ordre\u001b[39;00m\n\u001b[0;32m    171\u001b[0m \u001b[38;5;66;03m# On commence par les piétons car prioritaire\u001b[39;00m\n\u001b[0;32m    172\u001b[0m route, trafic \u001b[38;5;241m=\u001b[39m update_depart_pieton(route,trafic,temps)\n\u001b[1;32m--> 173\u001b[0m route \u001b[38;5;241m=\u001b[39m \u001b[43mupdate_pieton\u001b[49m\u001b[43m(\u001b[49m\u001b[43mroute\u001b[49m\u001b[43m)\u001b[49m\n\u001b[0;32m    175\u001b[0m \u001b[38;5;66;03m# Puis les voitures\u001b[39;00m\n\u001b[0;32m    176\u001b[0m direction \u001b[38;5;241m=\u001b[39m update_direction(route, direction)\n",
      "File \u001b[1;32md:\\GitHub\\CTZ\\Modele\\Update_route.py:112\u001b[0m, in \u001b[0;36mupdate_pieton\u001b[1;34m(route)\u001b[0m\n\u001b[0;32m    108\u001b[0m \u001b[38;5;28;01mfor\u001b[39;00m y \u001b[38;5;129;01min\u001b[39;00m \u001b[38;5;28mrange\u001b[39m(\u001b[38;5;28mlen\u001b[39m(route[x])):\n\u001b[0;32m    109\u001b[0m     \u001b[38;5;66;03m# Vérifie que l'élément de la route est différent de zéro (par exemple, 0 pourrait représenter un espace vide)\u001b[39;00m\n\u001b[0;32m    110\u001b[0m     \u001b[38;5;28;01mif\u001b[39;00m route[x][y] \u001b[38;5;241m!=\u001b[39m \u001b[38;5;241m0\u001b[39m:\n\u001b[0;32m    111\u001b[0m         \u001b[38;5;66;03m# Si l'élément est un passage piéton\u001b[39;00m\n\u001b[1;32m--> 112\u001b[0m         \u001b[38;5;28;01mif\u001b[39;00m route[x][y][\u001b[38;5;241m0\u001b[39m] \u001b[38;5;241m==\u001b[39m \u001b[38;5;124m\"\u001b[39m\u001b[38;5;124mPieton\u001b[39m\u001b[38;5;124m\"\u001b[39m:\n\u001b[0;32m    113\u001b[0m             \u001b[38;5;28;01mfor\u001b[39;00m k \u001b[38;5;129;01min\u001b[39;00m route[x][y][\u001b[38;5;241m1\u001b[39m]:\n\u001b[0;32m    114\u001b[0m                 \u001b[38;5;66;03m# Si piéton sur le passage  \u001b[39;00m\n\u001b[0;32m    115\u001b[0m                 route[x][y][\u001b[38;5;241m2\u001b[39m][k] \u001b[38;5;241m-\u001b[39m\u001b[38;5;241m=\u001b[39m \u001b[38;5;241m1\u001b[39m \u001b[38;5;28;01mif\u001b[39;00m route[x][y][\u001b[38;5;241m2\u001b[39m][k]\u001b[38;5;241m!=\u001b[39m \u001b[38;5;241m0\u001b[39m \u001b[38;5;28;01melse\u001b[39;00m \u001b[38;5;241m0\u001b[39m\n",
      "\u001b[1;31mKeyboardInterrupt\u001b[0m: "
     ]
    }
   ],
   "source": [
    "# Temps exceution mouvement\n",
    "def temps_exe(duree,route=route_etude,direction=direction_etude,traffic=trafic_etude):\n",
    "    \n",
    "    for temps in tqdm(range(duree)):\n",
    "        route, direction, traffic = Modele.mouvement(route, direction, traffic, temps)\n",
    "    \n",
    "    return traffic\n",
    "\n",
    "temps_exe(100000)"
   ]
  },
  {
   "cell_type": "code",
   "execution_count": 8,
   "metadata": {},
   "outputs": [
    {
     "name": "stderr",
     "output_type": "stream",
     "text": [
      "100%|██████████| 30/30 [00:06<00:00,  4.85it/s]"
     ]
    },
    {
     "name": "stdout",
     "output_type": "stream",
     "text": [
      "[1474258, 1476362, 1468644, 1464551, 1442019, 1450296, 1453560, 1459681, 1462426, 1465756, 1473313, 1468478, 1484513, 1489224, 1485628, 1477476, 1459597, 1444202, 1448107, 1459273, 1464874, 1476385, 1473374, 1478535, 1490553, 1507941, 1528435, 1538740, 1545906, 1545637]\n",
      "[34, 47, 48, 35, 36, 49, 46, 37, 38, 33, 50, 39, 41, 32, 40, 52, 30, 31, 51, 45, 53, 42, 44, 43, 54, 55, 56, 57, 59, 58]\n"
     ]
    },
    {
     "name": "stderr",
     "output_type": "stream",
     "text": [
      "\n"
     ]
    }
   ],
   "source": [
    "# Idée de test 1 : nbr de voiture total sur la route hors fin\n",
    "\n",
    "\n",
    "def nbr_voiture(route, direction, traffic, duree_feu, duree_test):\n",
    "\n",
    "    for i in range(len(route)):\n",
    "        for j in range(len(route[i])):\n",
    "            if route[i][j] != 0 and route[i][j][0] == \"Feu\":\n",
    "                route[i][j][2] = duree_feu\n",
    "\n",
    "    res = []\n",
    "\n",
    "    for temps in range(duree_test):\n",
    "\n",
    "        route, direction, traffic = Modele.mouvement(route, direction, traffic, temps)\n",
    "\n",
    "        compt = 0\n",
    "\n",
    "        for i in range(len(traffic)):\n",
    "            for j in range(len(traffic[i])):\n",
    "                if isinstance(traffic[i][j], list):\n",
    "                    if route[i][j] != 0 and route[i][j][0] == \"Route\":\n",
    "                        compt += traffic[i][j].count(1)\n",
    "                    elif route[i][j] != 0 and route[i][j][0] != \"Fin\":\n",
    "                        compt += traffic[i][j][0]\n",
    "\n",
    "        res.append(compt)\n",
    "\n",
    "    return res\n",
    "\n",
    "\n",
    "def test_1(route, direction, traffic, duree_min, duree_max, nbr_test, nbr_ite):\n",
    "\n",
    "    res = []\n",
    "    \n",
    "    for duree in tqdm(range(duree_min, duree_max)):\n",
    "        for i in range(nbr_test):\n",
    "            compt = []\n",
    "            compt.append(sum(nbr_voiture(route, direction, traffic, duree, nbr_ite)))\n",
    "        res.append(statistics.mean(compt))\n",
    "        \n",
    "    return res\n",
    "\n",
    "\n",
    "r = test_1(route_etude, direction_etude, traffic_etude, 30, 60, 10, 240)\n",
    "index = sorted(range(len(r)), key=lambda i: r[i])\n",
    "\n",
    "print(r)\n",
    "print([i + 30 for i in index])"
   ]
  },
  {
   "cell_type": "markdown",
   "metadata": {},
   "source": [
    "Résultat : Test naif qui a pour objectif de vider au plus vite les routes sans vraiment vouloir minimiser les embouteillage. On obtient en général un temps optimal le plus faible étrange !"
   ]
  },
  {
   "cell_type": "code",
   "execution_count": 7,
   "metadata": {},
   "outputs": [
    {
     "name": "stderr",
     "output_type": "stream",
     "text": [
      "100%|██████████| 30/30 [00:21<00:00,  1.42it/s]"
     ]
    },
    {
     "name": "stdout",
     "output_type": "stream",
     "text": [
      "[8156268, 8254584, 8273057, 8481426, 8620066, 8668501, 8768660, 8857699, 9037600, 9135052, 9254847, 9355384, 9515353, 9599763, 9766515, 9953581, 10200706, 10237942, 10405894, 10574673, 10726171, 10813658, 10926370, 11088209, 11278565, 11456899, 11608504, 11619753, 11692966, 11876271]\n",
      "[30, 31, 32, 33, 34, 35, 36, 37, 38, 39, 40, 41, 42, 43, 44, 45, 46, 47, 48, 49, 50, 51, 52, 53, 54, 55, 56, 57, 58, 59]\n"
     ]
    },
    {
     "name": "stderr",
     "output_type": "stream",
     "text": [
      "\n"
     ]
    }
   ],
   "source": [
    "# Test 2 : Nombre de voiture sur les routes = embouteillage\n",
    "# On veut que le phenomène soit penalisé x2 si plus de la moitié de la route occupé par des voitures\n",
    "# Et x5 les voitures sur les cases départ avec plus de 1 voiture\n",
    "\n",
    "def nbr_voiture_coef(route, direction, traffic, duree_feu, duree_test):\n",
    "\n",
    "    for i in range(len(route)):\n",
    "        for j in range(len(route[i])):\n",
    "            if route[i][j] != 0 and route[i][j][0] == \"Feu\":\n",
    "                route[i][j][2] = duree_feu\n",
    "\n",
    "    res = []\n",
    "\n",
    "    for temps in range(duree_test):\n",
    "\n",
    "        route, direction, traffic = Modele.mouvement(route, direction, traffic, temps)\n",
    "\n",
    "        compt = 0\n",
    "\n",
    "        for i in range(len(traffic)):\n",
    "            for j in range(len(traffic[i])):\n",
    "                if isinstance(traffic[i][j], list):\n",
    "                    if route[i][j] != 0 and route[i][j][0] == \"Route\":\n",
    "                        if traffic[i][j].count(1) > len(route[i][j])/2:\n",
    "                            compt += 5*traffic[i][j].count(1)\n",
    "                        else:\n",
    "                            compt += traffic[i][j].count(1)\n",
    "                    elif route[i][j] != 0 and route[i][j][0] == \"Départ\":\n",
    "                        if traffic[i][j][0] > 1:\n",
    "                            compt += 10*traffic[i][j][0]\n",
    "                        else:\n",
    "                            compt += traffic[i][j][0]\n",
    "                    elif route[i][j] != 0 and route[i][j][0] != \"Fin\":\n",
    "                        compt += traffic[i][j][0]\n",
    "\n",
    "        res.append(compt)\n",
    "\n",
    "    return res\n",
    "\n",
    "def test_2(route, direction, traffic, duree_min, duree_max, nbr_test, nbr_ite):\n",
    "\n",
    "    res = []\n",
    "    \n",
    "    for duree in tqdm(range(duree_min, duree_max)):\n",
    "        for i in range(nbr_test):\n",
    "            compt = []\n",
    "            compt.append(sum(nbr_voiture_coef(route, direction, traffic, duree, nbr_ite)))\n",
    "        res.append(statistics.mean(compt))\n",
    "        \n",
    "    return res\n",
    "\n",
    "r = test_2(route_etude, direction_etude, traffic_etude, 30, 60, 10, 1000)\n",
    "index = sorted(range(len(r)), key=lambda i: r[i])\n",
    "\n",
    "print(sorted(r))\n",
    "print([i + 30 for i in index])"
   ]
  },
  {
   "cell_type": "code",
   "execution_count": 4,
   "metadata": {},
   "outputs": [
    {
     "name": "stdout",
     "output_type": "stream",
     "text": [
      "[None]\n"
     ]
    }
   ],
   "source": [
    "def r(a):\n",
    "    if a:\n",
    "        return 1\n",
    "    \n",
    "lis = []\n",
    "\n",
    "lis.append(r(False))\n",
    "\n",
    "print(lis)"
   ]
  }
 ],
 "metadata": {
  "kernelspec": {
   "display_name": ".venv",
   "language": "python",
   "name": "python3"
  },
  "language_info": {
   "codemirror_mode": {
    "name": "ipython",
    "version": 3
   },
   "file_extension": ".py",
   "mimetype": "text/x-python",
   "name": "python",
   "nbconvert_exporter": "python",
   "pygments_lexer": "ipython3",
   "version": "3.12.7"
  }
 },
 "nbformat": 4,
 "nbformat_minor": 2
}
