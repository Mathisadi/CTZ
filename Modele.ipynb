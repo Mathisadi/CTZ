{
 "cells": [
  {
   "cell_type": "markdown",
   "metadata": {},
   "source": [
    "# Simulateur de traffic routier\n",
    "  \n",
    "**Objectif** : Simuler le traffic dans le cas suivant\n",
    "\n",
    "<img src=\"Banque d'image interface\\Cas_etude_feux.png\" width=\"500\"/>\n"
   ]
  },
  {
   "cell_type": "markdown",
   "metadata": {},
   "source": [
    "## Partie 1 : Création de la matrice qui modélisera notre route\n",
    "\n",
    "### Syntaxte\n",
    "\n",
    "Il faut voir le schéma du haut comme une compilation de blocs de différentes catégories routes, feux rouges, intersection, cedez le passage, debut, fin etc ...\n",
    "\n",
    "Ainsi, notre matrice retraduira cet assemblage de blocs afin d'éviter la création de trop grosses matrices (si on redessine toute la route). Chaque élement de la matrice sera donc un élement de la route et devra respecter la syntaxe suivante :  \n",
    "\n",
    "Element = [\"Type\" = str, Caractéristique du type = int]\n",
    "\n",
    "Détail pour chaque élements :\n",
    "\n",
    "- route = ['Route']\n",
    "- intersection = ['Intersection', proba : [[0,0,0,0],[0,0,0,0],[0,0,0,0],[0,0,0,0]]]\n",
    "- Feux rouges = ['Feu', cycles en secondes]\n",
    "- priorité = ['Priorite', coté concerné par la priorité [west : 0, south : 1, east : 0, north : 0]\n",
    "- Début = ['Debut', débit = int]\n",
    "- Fin = ['Fin']\n",
    "\n",
    "\n",
    "Cependant ces élements ne permetent pas de représenter ni de traiter l'évolution du traffic. C'est pourquoi il faut joindre à ces blocs des blocs 'transport' permettant de modéliser l'évolution du traffic en temps réel. \n",
    "\n",
    "C'est blocs transport se modéliseront de le manière suivantes :  \n",
    "\n",
    "Transport = [0,0,0,0,0,0,0,0,0,0,0,1,0,0,0,0,0,0,0,0,0,0,1,0,0,0,0,0,0,0,1]  \n",
    "\n",
    "Les 0 sont des espaces vides et les 1 des emplacements occupés. La capacité de l'élement précédant le bloc transport définira la longeur du bloc transport.  \n",
    "\n",
    "Enfin, à chaque itération la suite de 0 et de 1 se déplacera vers la droite et lorsqu'un 1 atteindra le bord droit on ajoutera 1 à l'ocuppation du bloc suivant.  \n",
    "\n",
    "On ajoutera c'est bloc transport à la fin des élements\n",
    "\n",
    "### Hypothèses\n",
    "\n",
    "Les voitures ne se déplace pas dinstantanément il y a un effet de 'chaine', ainsi il faudra à minima un 0 devant un & pour qu'il puisse avancer.\n",
    "\n",
    "### Retour à notre cas\n",
    "\n",
    "En apliquant le découpage on a : \n"
   ]
  },
  {
   "cell_type": "code",
   "execution_count": null,
   "metadata": {},
   "outputs": [],
   "source": [
    "# Cas 1 : feux rouges\n",
    "\n",
    "matrice_cas_1 = []"
   ]
  }
 ],
 "metadata": {
  "language_info": {
   "name": "python"
  }
 },
 "nbformat": 4,
 "nbformat_minor": 2
}
