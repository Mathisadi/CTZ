{
 "cells": [
  {
   "cell_type": "markdown",
   "metadata": {},
   "source": [
    "# Simulateur de traffic routier\n",
    "  \n",
    "**Objectif** : Simuler le traffic dans le cas suivant\n",
    "\n",
    "<img src=\"Banque d'image interface\\Cas_etude_feux.png\" width=\"500\"/>\n"
   ]
  },
  {
   "cell_type": "markdown",
   "metadata": {},
   "source": [
    "## Partie 1 : Création de la matrice qui modélisera notre route\n",
    "\n",
    "### Syntaxte\n",
    "\n",
    "Il faut voir le schéma du haut comme une compilation de blocs de différentes catégories routes, feux rouges, intersection, cedez le passage, debut, fin etc ...\n",
    "\n",
    "Ainsi, notre matrice retraduira cet assemblage de blocs afin d'éviter la création de trop grosses matrices (si on redessine toute la route). Chaque élement de la matrice sera donc un élement de la route et devra respecter la syntaxe suivante :  \n",
    "\n",
    "Element = [\"Type\" = str, Caractéristique du type = int]\n",
    "\n",
    "Détail pour chaque élements :\n",
    "\n",
    "- route = ['Route', sens de circulation 0 = ouest, 1 = sud ,2 = est, 3 = nord ]\n",
    "- intersection = ['Intersection', proba : [[0,0,0,0],[0,0,0,0],[0,0,0,0],[0,0,0,0]]]\n",
    "- Feux rouges = ['Feu',sens de circulation, cycles en secondes]\n",
    "- priorité = ['Priorite',sens de circulation ,coté concerné par la priorité [west : 0, south : 1, east : 0, north : 0]\n",
    "- Début = ['Debut',sens de circulation, débit = int]\n",
    "- Fin = ['Fin']\n",
    "\n",
    "\n",
    "Cependant ces élements ne permetent pas de représenter ni de traiter l'évolution du traffic. C'est pourquoi il faut joindre à ces blocs des blocs 'transport' permettant de modéliser l'évolution du traffic en temps réel. \n",
    "\n",
    "C'est blocs transport se modéliseront de le manière suivantes :  \n",
    "\n",
    "Transport = [0,0,0,0,0,0,0,0,0,0,0,1,0,0,0,0,0,0,0,0,0,0,1,0,0,0,0,0,0,0,1]  \n",
    "\n",
    "Les 0 sont des espaces vides et les 1 des emplacements occupés. La capacité de l'élement précédant le bloc transport définira la longeur du bloc transport.  \n",
    "\n",
    "Enfin, à chaque itération la suite de 0 et de 1 se déplacera vers la droite et lorsqu'un 1 atteindra le bord droit on ajoutera 1 à l'ocuppation du bloc suivant.  \n",
    "\n",
    "On ajoutera c'est bloc transport à la fin des élements\n",
    "\n",
    "### Hypothèses\n",
    "\n",
    "Les voitures ne se déplace pas dinstantanément il y a un effet de 'chaine', ainsi il faudra à minima un 0 devant un & pour qu'il puisse avancer.\n",
    "\n",
    "### Retour à notre cas\n",
    "\n",
    "En apliquant le découpage on a : \n",
    "\n",
    "<img src=\"Banque d'image interface\\Decoupage_route.jpg\" width=\"500\"/>\n"
   ]
  },
  {
   "cell_type": "code",
   "execution_count": null,
   "metadata": {},
   "outputs": [],
   "source": [
    "# Cas 1 : feux rouges\n",
    "\n",
    "Bloc_01 = ['Fin']\n",
    "Bloc_02 = ['Intersection',[0,0,[0.5,0.5,0,0],0],[0]]\n",
    "Bloc_03 = ['Intersection',[0,[1,0,0,0],[1,0,0,0],0],[0]]\n",
    "Bloc_04 = ['Route',0,[0,0,0,0, 0, 0, 0, 0, 0, 0, 0, 0, 0, 0, 0, 0, 0, 0, 0, 0, 0, 0, 0]]\n",
    "Bloc_12 = ['Intersection',[[0,0.5,0.5,0],0,0,[0,1,0,0]],[0]]\n",
    "Bloc_13 = ['Intersection',[[0,0,1,0],[0,0,0.5,0.5],0,0],[0]]\n",
    "\n"
   ]
  },
  {
   "cell_type": "code",
   "execution_count": 2,
   "metadata": {},
   "outputs": [
    {
     "name": "stdout",
     "output_type": "stream",
     "text": [
      "[0, 0, 0, 0, 0, 0, 0, 0, 0, 0, 0, 0, 0, 0, 0, 0, 0, 0, 0, 0, 0, 0, 0]\n"
     ]
    }
   ],
   "source": [
    "res = [0]*23\n",
    "\n",
    "print(res)"
   ]
  }
 ],
 "metadata": {
  "kernelspec": {
   "display_name": "Python 3",
   "language": "python",
   "name": "python3"
  },
  "language_info": {
   "codemirror_mode": {
    "name": "ipython",
    "version": 3
   },
   "file_extension": ".py",
   "mimetype": "text/x-python",
   "name": "python",
   "nbconvert_exporter": "python",
   "pygments_lexer": "ipython3",
   "version": "3.9.13"
  }
 },
 "nbformat": 4,
 "nbformat_minor": 2
}
